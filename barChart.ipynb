{
 "cells": [
  {
   "cell_type": "code",
   "execution_count": 5,
   "id": "7a4f9012",
   "metadata": {},
   "outputs": [
    {
     "data": {
      "text/html": [
       "<div>\n",
       "<style scoped>\n",
       "    .dataframe tbody tr th:only-of-type {\n",
       "        vertical-align: middle;\n",
       "    }\n",
       "\n",
       "    .dataframe tbody tr th {\n",
       "        vertical-align: top;\n",
       "    }\n",
       "\n",
       "    .dataframe thead th {\n",
       "        text-align: right;\n",
       "    }\n",
       "</style>\n",
       "<table border=\"1\" class=\"dataframe\">\n",
       "  <thead>\n",
       "    <tr style=\"text-align: right;\">\n",
       "      <th></th>\n",
       "      <th>x</th>\n",
       "      <th>y</th>\n",
       "      <th>CBM</th>\n",
       "      <th>category</th>\n",
       "    </tr>\n",
       "  </thead>\n",
       "  <tbody>\n",
       "    <tr>\n",
       "      <th>0</th>\n",
       "      <td>0.699999</td>\n",
       "      <td>0.580568</td>\n",
       "      <td>2.076783</td>\n",
       "      <td>U</td>\n",
       "    </tr>\n",
       "    <tr>\n",
       "      <th>1</th>\n",
       "      <td>0.166019</td>\n",
       "      <td>0.714134</td>\n",
       "      <td>0.325536</td>\n",
       "      <td>U</td>\n",
       "    </tr>\n",
       "    <tr>\n",
       "      <th>2</th>\n",
       "      <td>0.510921</td>\n",
       "      <td>0.476380</td>\n",
       "      <td>2.251371</td>\n",
       "      <td>U</td>\n",
       "    </tr>\n",
       "    <tr>\n",
       "      <th>3</th>\n",
       "      <td>0.938902</td>\n",
       "      <td>0.708877</td>\n",
       "      <td>1.868437</td>\n",
       "      <td>U</td>\n",
       "    </tr>\n",
       "    <tr>\n",
       "      <th>4</th>\n",
       "      <td>0.596688</td>\n",
       "      <td>0.607754</td>\n",
       "      <td>1.615445</td>\n",
       "      <td>U</td>\n",
       "    </tr>\n",
       "  </tbody>\n",
       "</table>\n",
       "</div>"
      ],
      "text/plain": [
       "          x         y       CBM category\n",
       "0  0.699999  0.580568  2.076783        U\n",
       "1  0.166019  0.714134  0.325536        U\n",
       "2  0.510921  0.476380  2.251371        U\n",
       "3  0.938902  0.708877  1.868437        U\n",
       "4  0.596688  0.607754  1.615445        U"
      ]
     },
     "execution_count": 5,
     "metadata": {},
     "output_type": "execute_result"
    }
   ],
   "source": [
    "import numpy as np\n",
    "import pandas as pd\n",
    "from random import random\n",
    "\n",
    "x = np.array([random() for _ in range(100)])\n",
    "y = np.array([random() for _ in range(100)])\n",
    "CBM = x / y ** 2\n",
    "df = pd.DataFrame({'x':x, 'y':y, 'CBM':CBM})\n",
    "dfcbm = pd.DataFrame({'CBM':CBM})\n",
    "category = dfcbm.apply(lambda x: pd.cut(x, [0,18.9,24.9,30,float('inf')], labels=['U','N','O','Obe']))\n",
    "df['category'] = category\n",
    "#df.head()\n"
   ]
  },
  {
   "cell_type": "code",
   "execution_count": 7,
   "id": "f752a7cf",
   "metadata": {},
   "outputs": [
    {
     "data": {
      "text/plain": [
       "Text(0, 0.5, 'frequency')"
      ]
     },
     "execution_count": 7,
     "metadata": {},
     "output_type": "execute_result"
    },
    {
     "data": {
      "image/png": "[encoded data removed]",
      "text/plain": [
       "<Figure size 1200x500 with 1 Axes>"
      ]
     },
     "metadata": {},
     "output_type": "display_data"
    }
   ],
   "source": [
    "ax = df['category'].value_counts().plot(kind='bar', title='BMI Index', figsize=(12,5))\n",
    "ax.set_xlabel('categories')\n",
    "ax.set_ylabel('frequency')"
   ]
  },
  {
   "cell_type": "code",
   "execution_count": null,
   "id": "134544ca",
   "metadata": {},
   "outputs": [],
   "source": []
  }
 ],
 "metadata": {
  "kernelspec": {
   "display_name": "Python 3 (ipykernel)",
   "language": "python",
   "name": "python3"
  },
  "language_info": {
   "codemirror_mode": {
    "name": "ipython",
    "version": 3
   },
   "file_extension": ".py",
   "mimetype": "text/x-python",
   "name": "python",
   "nbconvert_exporter": "python",
   "pygments_lexer": "ipython3",
   "version": "3.12.2"
  }
 },
 "nbformat": 4,
 "nbformat_minor": 5
}
